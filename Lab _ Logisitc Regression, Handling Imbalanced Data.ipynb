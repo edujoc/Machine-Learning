{
 "cells": [
  {
   "cell_type": "code",
   "execution_count": 37,
   "id": "de401dd0",
   "metadata": {},
   "outputs": [],
   "source": [
    "import pandas as pd\n",
    "from sklearn.linear_model import LogisticRegression\n",
    "from sklearn.preprocessing import StandardScaler\n",
    "from sklearn.model_selection import train_test_split"
   ]
  },
  {
   "cell_type": "code",
   "execution_count": 38,
   "id": "9faf1b9b",
   "metadata": {},
   "outputs": [],
   "source": [
    "churnData = pd.read_csv(\"/Users/edudarrelljockers/Documents/GitHub/IH_RH_DA_FT_AUG_2021/Class Materials/Machine_Learning/Supervised_Learning/Lab/Data/DATA_Customer-Churn.csv\")"
   ]
  },
  {
   "cell_type": "code",
   "execution_count": 39,
   "id": "1c07eb64",
   "metadata": {},
   "outputs": [],
   "source": [
    "churn_data_df = pd.DataFrame(churnData, columns = ['gender', 'SeniorCitizen', 'Partner',\n",
    "                                                  'Dependents', 'tenure', 'PhoneService',\n",
    "                                                   'OnlineSecurity', 'OnlineBackup',\n",
    "                                                   'DeviceProtection', 'TechSupport',\n",
    "                                                   'StreamingTV', 'StreamingMovies',\n",
    "                                                   'Contract', 'MonthlyCharges', 'TotalCharges', 'Churn']\n",
    "                                                   )"
   ]
  },
  {
   "cell_type": "code",
   "execution_count": 40,
   "id": "dea58bcb",
   "metadata": {},
   "outputs": [
    {
     "data": {
      "text/html": [
       "<div>\n",
       "<style scoped>\n",
       "    .dataframe tbody tr th:only-of-type {\n",
       "        vertical-align: middle;\n",
       "    }\n",
       "\n",
       "    .dataframe tbody tr th {\n",
       "        vertical-align: top;\n",
       "    }\n",
       "\n",
       "    .dataframe thead th {\n",
       "        text-align: right;\n",
       "    }\n",
       "</style>\n",
       "<table border=\"1\" class=\"dataframe\">\n",
       "  <thead>\n",
       "    <tr style=\"text-align: right;\">\n",
       "      <th></th>\n",
       "      <th>gender</th>\n",
       "      <th>SeniorCitizen</th>\n",
       "      <th>Partner</th>\n",
       "      <th>Dependents</th>\n",
       "      <th>tenure</th>\n",
       "      <th>PhoneService</th>\n",
       "      <th>OnlineSecurity</th>\n",
       "      <th>OnlineBackup</th>\n",
       "      <th>DeviceProtection</th>\n",
       "      <th>TechSupport</th>\n",
       "      <th>StreamingTV</th>\n",
       "      <th>StreamingMovies</th>\n",
       "      <th>Contract</th>\n",
       "      <th>MonthlyCharges</th>\n",
       "      <th>TotalCharges</th>\n",
       "      <th>Churn</th>\n",
       "    </tr>\n",
       "  </thead>\n",
       "  <tbody>\n",
       "    <tr>\n",
       "      <th>0</th>\n",
       "      <td>Female</td>\n",
       "      <td>0</td>\n",
       "      <td>Yes</td>\n",
       "      <td>No</td>\n",
       "      <td>1</td>\n",
       "      <td>No</td>\n",
       "      <td>No</td>\n",
       "      <td>Yes</td>\n",
       "      <td>No</td>\n",
       "      <td>No</td>\n",
       "      <td>No</td>\n",
       "      <td>No</td>\n",
       "      <td>Month-to-month</td>\n",
       "      <td>29.85</td>\n",
       "      <td>29.85</td>\n",
       "      <td>No</td>\n",
       "    </tr>\n",
       "    <tr>\n",
       "      <th>1</th>\n",
       "      <td>Male</td>\n",
       "      <td>0</td>\n",
       "      <td>No</td>\n",
       "      <td>No</td>\n",
       "      <td>34</td>\n",
       "      <td>Yes</td>\n",
       "      <td>Yes</td>\n",
       "      <td>No</td>\n",
       "      <td>Yes</td>\n",
       "      <td>No</td>\n",
       "      <td>No</td>\n",
       "      <td>No</td>\n",
       "      <td>One year</td>\n",
       "      <td>56.95</td>\n",
       "      <td>1889.5</td>\n",
       "      <td>No</td>\n",
       "    </tr>\n",
       "    <tr>\n",
       "      <th>2</th>\n",
       "      <td>Male</td>\n",
       "      <td>0</td>\n",
       "      <td>No</td>\n",
       "      <td>No</td>\n",
       "      <td>2</td>\n",
       "      <td>Yes</td>\n",
       "      <td>Yes</td>\n",
       "      <td>Yes</td>\n",
       "      <td>No</td>\n",
       "      <td>No</td>\n",
       "      <td>No</td>\n",
       "      <td>No</td>\n",
       "      <td>Month-to-month</td>\n",
       "      <td>53.85</td>\n",
       "      <td>108.15</td>\n",
       "      <td>Yes</td>\n",
       "    </tr>\n",
       "    <tr>\n",
       "      <th>3</th>\n",
       "      <td>Male</td>\n",
       "      <td>0</td>\n",
       "      <td>No</td>\n",
       "      <td>No</td>\n",
       "      <td>45</td>\n",
       "      <td>No</td>\n",
       "      <td>Yes</td>\n",
       "      <td>No</td>\n",
       "      <td>Yes</td>\n",
       "      <td>Yes</td>\n",
       "      <td>No</td>\n",
       "      <td>No</td>\n",
       "      <td>One year</td>\n",
       "      <td>42.30</td>\n",
       "      <td>1840.75</td>\n",
       "      <td>No</td>\n",
       "    </tr>\n",
       "    <tr>\n",
       "      <th>4</th>\n",
       "      <td>Female</td>\n",
       "      <td>0</td>\n",
       "      <td>No</td>\n",
       "      <td>No</td>\n",
       "      <td>2</td>\n",
       "      <td>Yes</td>\n",
       "      <td>No</td>\n",
       "      <td>No</td>\n",
       "      <td>No</td>\n",
       "      <td>No</td>\n",
       "      <td>No</td>\n",
       "      <td>No</td>\n",
       "      <td>Month-to-month</td>\n",
       "      <td>70.70</td>\n",
       "      <td>151.65</td>\n",
       "      <td>Yes</td>\n",
       "    </tr>\n",
       "  </tbody>\n",
       "</table>\n",
       "</div>"
      ],
      "text/plain": [
       "   gender  SeniorCitizen Partner Dependents  tenure PhoneService  \\\n",
       "0  Female              0     Yes         No       1           No   \n",
       "1    Male              0      No         No      34          Yes   \n",
       "2    Male              0      No         No       2          Yes   \n",
       "3    Male              0      No         No      45           No   \n",
       "4  Female              0      No         No       2          Yes   \n",
       "\n",
       "  OnlineSecurity OnlineBackup DeviceProtection TechSupport StreamingTV  \\\n",
       "0             No          Yes               No          No          No   \n",
       "1            Yes           No              Yes          No          No   \n",
       "2            Yes          Yes               No          No          No   \n",
       "3            Yes           No              Yes         Yes          No   \n",
       "4             No           No               No          No          No   \n",
       "\n",
       "  StreamingMovies        Contract  MonthlyCharges TotalCharges Churn  \n",
       "0              No  Month-to-month           29.85        29.85    No  \n",
       "1              No        One year           56.95       1889.5    No  \n",
       "2              No  Month-to-month           53.85       108.15   Yes  \n",
       "3              No        One year           42.30      1840.75    No  \n",
       "4              No  Month-to-month           70.70       151.65   Yes  "
      ]
     },
     "execution_count": 40,
     "metadata": {},
     "output_type": "execute_result"
    }
   ],
   "source": [
    "churn_data_df.head()"
   ]
  },
  {
   "cell_type": "code",
   "execution_count": 41,
   "id": "50dc6175",
   "metadata": {},
   "outputs": [
    {
     "data": {
      "text/plain": [
       "Index(['gender', 'SeniorCitizen', 'Partner', 'Dependents', 'tenure',\n",
       "       'PhoneService', 'OnlineSecurity', 'OnlineBackup', 'DeviceProtection',\n",
       "       'TechSupport', 'StreamingTV', 'StreamingMovies', 'Contract',\n",
       "       'MonthlyCharges', 'TotalCharges', 'Churn'],\n",
       "      dtype='object')"
      ]
     },
     "execution_count": 41,
     "metadata": {},
     "output_type": "execute_result"
    }
   ],
   "source": [
    "churnData.columns"
   ]
  },
  {
   "cell_type": "code",
   "execution_count": 42,
   "id": "888d6e89",
   "metadata": {},
   "outputs": [
    {
     "data": {
      "text/plain": [
       "gender               object\n",
       "SeniorCitizen         int64\n",
       "Partner              object\n",
       "Dependents           object\n",
       "tenure                int64\n",
       "PhoneService         object\n",
       "OnlineSecurity       object\n",
       "OnlineBackup         object\n",
       "DeviceProtection     object\n",
       "TechSupport          object\n",
       "StreamingTV          object\n",
       "StreamingMovies      object\n",
       "Contract             object\n",
       "MonthlyCharges      float64\n",
       "TotalCharges         object\n",
       "Churn                object\n",
       "dtype: object"
      ]
     },
     "execution_count": 42,
     "metadata": {},
     "output_type": "execute_result"
    }
   ],
   "source": [
    "churnData.dtypes"
   ]
  },
  {
   "cell_type": "code",
   "execution_count": 43,
   "id": "91437ef3",
   "metadata": {},
   "outputs": [],
   "source": [
    "churnData['TotalCharges'] = pd.to_numeric(churnData['TotalCharges'], errors='coerce')\n",
    "# errors = 'ignore' >>> skip respective rows\n",
    "# errors = 'coerce' >>> Errors should be filled with Null Values.; then deal with the Null Values"
   ]
  },
  {
   "cell_type": "code",
   "execution_count": 44,
   "id": "489d118b",
   "metadata": {},
   "outputs": [
    {
     "data": {
      "text/plain": [
       "gender               object\n",
       "SeniorCitizen         int64\n",
       "Partner              object\n",
       "Dependents           object\n",
       "tenure                int64\n",
       "PhoneService         object\n",
       "OnlineSecurity       object\n",
       "OnlineBackup         object\n",
       "DeviceProtection     object\n",
       "TechSupport          object\n",
       "StreamingTV          object\n",
       "StreamingMovies      object\n",
       "Contract             object\n",
       "MonthlyCharges      float64\n",
       "TotalCharges        float64\n",
       "Churn                object\n",
       "dtype: object"
      ]
     },
     "execution_count": 44,
     "metadata": {},
     "output_type": "execute_result"
    }
   ],
   "source": [
    "churnData.dtypes"
   ]
  },
  {
   "cell_type": "code",
   "execution_count": 45,
   "id": "fda0755c",
   "metadata": {},
   "outputs": [
    {
     "data": {
      "text/plain": [
       "gender               0\n",
       "SeniorCitizen        0\n",
       "Partner              0\n",
       "Dependents           0\n",
       "tenure               0\n",
       "PhoneService         0\n",
       "OnlineSecurity       0\n",
       "OnlineBackup         0\n",
       "DeviceProtection     0\n",
       "TechSupport          0\n",
       "StreamingTV          0\n",
       "StreamingMovies      0\n",
       "Contract             0\n",
       "MonthlyCharges       0\n",
       "TotalCharges        11\n",
       "Churn                0\n",
       "dtype: int64"
      ]
     },
     "execution_count": 45,
     "metadata": {},
     "output_type": "execute_result"
    }
   ],
   "source": [
    "churnData.isna().sum()"
   ]
  },
  {
   "cell_type": "code",
   "execution_count": 46,
   "id": "772cce9d",
   "metadata": {},
   "outputs": [],
   "source": [
    "churn_data_df = churnData.dropna(axis=0, how='any', inplace=True)\n",
    "\n",
    "### Fill the Null values with mean instead.\n",
    "### churnData['TotalCharges'] = churnData['TotalCharges'].fillna(np.mean(churnData['TotalCharges']))"
   ]
  },
  {
   "cell_type": "code",
   "execution_count": 47,
   "id": "82411481",
   "metadata": {},
   "outputs": [
    {
     "data": {
      "text/plain": [
       "gender              0\n",
       "SeniorCitizen       0\n",
       "Partner             0\n",
       "Dependents          0\n",
       "tenure              0\n",
       "PhoneService        0\n",
       "OnlineSecurity      0\n",
       "OnlineBackup        0\n",
       "DeviceProtection    0\n",
       "TechSupport         0\n",
       "StreamingTV         0\n",
       "StreamingMovies     0\n",
       "Contract            0\n",
       "MonthlyCharges      0\n",
       "TotalCharges        0\n",
       "Churn               0\n",
       "dtype: int64"
      ]
     },
     "execution_count": 47,
     "metadata": {},
     "output_type": "execute_result"
    }
   ],
   "source": [
    "churnData.isna().sum()"
   ]
  },
  {
   "cell_type": "code",
   "execution_count": 48,
   "id": "95035d21",
   "metadata": {},
   "outputs": [
    {
     "data": {
      "text/plain": [
       "No     5163\n",
       "Yes    1869\n",
       "Name: Churn, dtype: int64"
      ]
     },
     "execution_count": 48,
     "metadata": {},
     "output_type": "execute_result"
    }
   ],
   "source": [
    "churnData['Churn'].value_counts()"
   ]
  },
  {
   "cell_type": "markdown",
   "id": "735767a7",
   "metadata": {},
   "source": [
    "## Scaling the Features"
   ]
  },
  {
   "cell_type": "code",
   "execution_count": 49,
   "id": "ef76449b",
   "metadata": {},
   "outputs": [],
   "source": [
    "X = churnData[['tenure', 'SeniorCitizen','MonthlyCharges', 'TotalCharges']]\n",
    "y = pd.DataFrame(data=churnData, columns=['Churn'])\n",
    "transformer = StandardScaler().fit(X)\n",
    "scaled_x = transformer.transform(X)"
   ]
  },
  {
   "cell_type": "markdown",
   "id": "84843de3",
   "metadata": {},
   "source": [
    "## Logistic Regression Model"
   ]
  },
  {
   "cell_type": "code",
   "execution_count": 50,
   "id": "517b9daf",
   "metadata": {},
   "outputs": [
    {
     "name": "stderr",
     "output_type": "stream",
     "text": [
      "/opt/anaconda3/lib/python3.8/site-packages/sklearn/utils/validation.py:63: DataConversionWarning: A column-vector y was passed when a 1d array was expected. Please change the shape of y to (n_samples, ), for example using ravel().\n",
      "  return f(*args, **kwargs)\n"
     ]
    },
    {
     "data": {
      "text/plain": [
       "array(['No', 'No', 'Yes', ..., 'No', 'No', 'Yes'], dtype=object)"
      ]
     },
     "execution_count": 50,
     "metadata": {},
     "output_type": "execute_result"
    }
   ],
   "source": [
    "X_train, X_test, y_train, y_test = train_test_split(scaled_x, y, test_size=0.30)\n",
    "classification = LogisticRegression(random_state=0).fit(X_train, y_train)\n",
    "y_pred_test = classification.predict(X_test)\n",
    "y_pred_test"
   ]
  },
  {
   "cell_type": "markdown",
   "id": "68b3f403",
   "metadata": {},
   "source": [
    "### Checking the Test Set's Accuracy"
   ]
  },
  {
   "cell_type": "code",
   "execution_count": 51,
   "id": "03264e6d",
   "metadata": {},
   "outputs": [
    {
     "data": {
      "text/plain": [
       "0.79478672985782"
      ]
     },
     "execution_count": 51,
     "metadata": {},
     "output_type": "execute_result"
    }
   ],
   "source": [
    "classification.score(X_test, y_test) #R2"
   ]
  },
  {
   "cell_type": "code",
   "execution_count": 52,
   "id": "db32a203",
   "metadata": {},
   "outputs": [
    {
     "ename": "SyntaxError",
     "evalue": "invalid syntax (<ipython-input-52-02f0ad42fccd>, line 1)",
     "output_type": "error",
     "traceback": [
      "\u001b[0;36m  File \u001b[0;32m\"<ipython-input-52-02f0ad42fccd>\"\u001b[0;36m, line \u001b[0;32m1\u001b[0m\n\u001b[0;31m    accuracy_score =  # Accuracy = TP+TN/TP+FP+FN+TN\u001b[0m\n\u001b[0m                      ^\u001b[0m\n\u001b[0;31mSyntaxError\u001b[0m\u001b[0;31m:\u001b[0m invalid syntax\n"
     ]
    }
   ],
   "source": [
    "accuracy_score =  # Accuracy = TP+TN/TP+FP+FN+TN\n",
    "precision_score =  # Precision = TP/TP+FP\n",
    "recall_score =    # Recall = TP/TP+FN"
   ]
  },
  {
   "cell_type": "code",
   "execution_count": null,
   "id": "49972f99",
   "metadata": {},
   "outputs": [],
   "source": [
    "def performance_log(y_test, y_pred_test):\n",
    "    return pd.DataFrame({'Error_metric': ['Accuracy','Precision','Recall'],\n",
    "                               'Test': [accuracy_score(y_test, y_pred_test),\n",
    "                                        precision_score(y_test, y_pred_test,pos_label=\"Yes\"),\n",
    "                                        recall_score(y_test, y_pred_test,pos_label=\"Yes\")]})"
   ]
  },
  {
   "cell_type": "markdown",
   "id": "0111479e",
   "metadata": {},
   "source": [
    "performance_log(y_test, y_pred_test)"
   ]
  },
  {
   "cell_type": "code",
   "execution_count": null,
   "id": "46ce8ea6",
   "metadata": {},
   "outputs": [],
   "source": [
    "def plot_conf_matrix(y_test, y_pred_test):\n",
    "    print(\"Confusion matrix for the test set\")\n",
    "    print(confusion_matrix(y_test, y_pred_test))\n",
    "    plot_confusion_matrix(classification,X_test,y_test, values_format = 'd')\n",
    "    plt.show()"
   ]
  },
  {
   "cell_type": "markdown",
   "id": "012270c6",
   "metadata": {},
   "source": [
    "plot_conf_matrix(y_test, y_pred_test)"
   ]
  },
  {
   "cell_type": "markdown",
   "id": "f709effa",
   "metadata": {},
   "source": [
    "## Using Upscampling to Handle Imbalance"
   ]
  },
  {
   "cell_type": "code",
   "execution_count": null,
   "id": "49f32c9b",
   "metadata": {},
   "outputs": [],
   "source": [
    "counts = churnData['Churn'].value_counts()\n",
    "counts"
   ]
  },
  {
   "cell_type": "code",
   "execution_count": null,
   "id": "03de95ea",
   "metadata": {},
   "outputs": [],
   "source": [
    "yes = churnData[churnData['Churn']=='Yes'].sample(counts[0], replace=True)\n",
    "no = churnData[churnData['Churn']=='No']\n",
    "data = pd.concat([yes,no], axis=0)\n",
    "data = data.sample(frac=1)"
   ]
  },
  {
   "cell_type": "code",
   "execution_count": null,
   "id": "71bc6e92",
   "metadata": {},
   "outputs": [],
   "source": [
    "data['Churn'].value_counts()"
   ]
  },
  {
   "cell_type": "code",
   "execution_count": null,
   "id": "9aafb3ab",
   "metadata": {},
   "outputs": [],
   "source": [
    "X = data[['tenure', 'SeniorCitizen','MonthlyCharges', 'TotalCharges']]\n",
    "y = pd.DataFrame(data['Churn'])\n",
    "transformer = StandardScaler().fit(X)\n",
    "scaled_x = transformer.transform(X)\n",
    "X_train, X_test, y_train, y_test = train_test_split(scaled_x, y, test_size=0.33)\n",
    "classification = LogisticRegression(random_state=0).fit(X_train, y_train)\n",
    "y_pred_test = classification.predict(X_test)"
   ]
  },
  {
   "cell_type": "markdown",
   "id": "bc0b50e7",
   "metadata": {},
   "source": [
    "# Using Downsampling to Handle Imbalance"
   ]
  },
  {
   "cell_type": "code",
   "execution_count": null,
   "id": "ba5bba27",
   "metadata": {},
   "outputs": [],
   "source": [
    "yes = churnData[churnData['Churn']=='Yes']\n",
    "no = churnData[churnData['Churn']=='No']\n",
    "no = no.sample(len(yes))\n",
    "data = pd.concat([yes,no], axis=0)\n",
    "data = data.sample(frac=1)\n",
    "data['Churn'].value_counts()"
   ]
  },
  {
   "cell_type": "code",
   "execution_count": null,
   "id": "9eccc83a",
   "metadata": {},
   "outputs": [],
   "source": [
    "X = data[['tenure', 'SeniorCitizen','MonthlyCharges', 'TotalCharges']]\n",
    "y = pd.DataFrame(data['Churn'])\n",
    "transformer = StandardScaler().fit(X)\n",
    "scaled_x = transformer.transform(X)\n",
    "X_train, X_test, y_train, y_test = train_test_split(scaled_x, y, test_size=0.33)\n",
    "classification = LogisticRegression(random_state=0, solver='lbfgs', multi_class='ovr').fit(X_train, y_train)\n",
    "y_pred_test = classification.predict(X_test)"
   ]
  }
 ],
 "metadata": {
  "kernelspec": {
   "display_name": "Python 3",
   "language": "python",
   "name": "python3"
  },
  "language_info": {
   "codemirror_mode": {
    "name": "ipython",
    "version": 3
   },
   "file_extension": ".py",
   "mimetype": "text/x-python",
   "name": "python",
   "nbconvert_exporter": "python",
   "pygments_lexer": "ipython3",
   "version": "3.8.8"
  }
 },
 "nbformat": 4,
 "nbformat_minor": 5
}
